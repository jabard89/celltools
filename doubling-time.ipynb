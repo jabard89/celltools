{
 "cells": [
  {
   "cell_type": "markdown",
   "metadata": {},
   "source": [
    "# Useful Functions for Growing Yeast"
   ]
  },
  {
   "cell_type": "code",
   "execution_count": 1,
   "metadata": {},
   "outputs": [],
   "source": [
    "import numpy as np\n",
    "from datetime import datetime\n",
    "from datetime import timedelta\n",
    "from numbers import Number"
   ]
  },
  {
   "cell_type": "markdown",
   "metadata": {},
   "source": [
    "## Calculate Doubling Time"
   ]
  },
  {
   "cell_type": "code",
   "execution_count": 2,
   "metadata": {},
   "outputs": [],
   "source": [
    "def calculate_doubling_time(t1, t2, od1, od2, unit=\"min\"):\n",
    "    \"\"\"Returns the doubling time of a culture given two times t1 and t2 and two OD600s od1 and od2.\n",
    "    Enter time as a string (in 24 hour format)\"\"\"\n",
    "    assert od1 < od2\n",
    "    FMT = \"%H:%M\"\n",
    "    time_difference = datetime.strptime(t2, FMT) - datetime.strptime(t1, FMT)\n",
    "    assert time_difference.seconds > 0\n",
    "    if unit == \"min\":\n",
    "        return((time_difference.seconds/60) / np.log2(od2 / od1))\n",
    "    if unit == \"hour\":\n",
    "        return((time_difference.seconds/3600) / np.log2(od2 / od1))"
   ]
  },
  {
   "cell_type": "code",
   "execution_count": 3,
   "metadata": {},
   "outputs": [
    {
     "data": {
      "text/plain": [
       "80.72120130233007"
      ]
     },
     "execution_count": 3,
     "metadata": {},
     "output_type": "execute_result"
    }
   ],
   "source": [
    "calculate_doubling_time(\"18:03\", \"19:53\", 0.065, 0.188)\n",
    "calculate_doubling_time(\"19:53\", \"20:46\", 0.188, 0.316)\n",
    "calculate_doubling_time(\"20:46\", \"21:05\", 0.316, 0.372)"
   ]
  },
  {
   "cell_type": "markdown",
   "metadata": {},
   "source": [
    "## Design a Growth Experiment"
   ]
  },
  {
   "cell_type": "code",
   "execution_count": 4,
   "metadata": {},
   "outputs": [],
   "source": [
    "def how_should_i_innoculate(target_od, target_time, target_volume, starter_od, time_now, \\\n",
    "                            doubling_time=90, print_total_elapsed=False, include_lag=False):\n",
    "    \"\"\"\n",
    "    Instructions on how to make a culture from a yeast culture - all volume units are in mL!\n",
    "    If you want to see how long your yeast will be growing for, set print_total_elasped to be True\n",
    "    If you want to include a lag phase, set include_lag to be 'True' for 2 hours, or a number of hours\n",
    "    For a custom value.\n",
    "    \"\"\"\n",
    "    FMT = \"%H:%M\"\n",
    "    time_diff = datetime.strptime(target_time, FMT) - datetime.strptime(time_now, FMT)\n",
    "    # Print total time yeast will be growing for\n",
    "    if print_total_elapsed:\n",
    "        total_time = round(time_diff.seconds / 3600, 2)\n",
    "        print(\"Yeast will be growing for {} hours\\n\".format(total_time))\n",
    "    if include_lag:\n",
    "        if isinstance(include_lag, bool):\n",
    "            time_diff += timedelta(hours=2) \n",
    "        elif isinstance(include_lag, Number):\n",
    "            time_diff += timedelta(hours=include_lag)\n",
    "        else:\n",
    "            print(\"include_lag must either be a number of hours, or True (2 hour lag assumed); returning non-lagged calculation\")\n",
    "    number_of_doublings = (time_diff.seconds / 60) / doubling_time\n",
    "    beginning_od = target_od / (2**(number_of_doublings))\n",
    "    volume_of_starter = (beginning_od * target_volume) / starter_od\n",
    "    volume_of_media = target_volume - volume_of_starter\n",
    "    print('To make a {} mL culture at OD {} at {}:\\n'.format(target_volume, target_od, target_time))\n",
    "    print('Add {:0.3f} mL of starter at OD {} to {:0.3f} mL of media'.format(volume_of_starter,\n",
    "                                                                             starter_od,\n",
    "                                                                             volume_of_media))"
   ]
  },
  {
   "cell_type": "code",
   "execution_count": 5,
   "metadata": {},
   "outputs": [
    {
     "name": "stdout",
     "output_type": "stream",
     "text": [
      "Yeast will be growing for 9.0 hours\n",
      "\n",
      "To make a 1000 mL culture at OD 0.1 at 17:00:\n",
      "\n",
      "Add 0.391 mL of starter at OD 4 to 999.609 mL of media\n"
     ]
    }
   ],
   "source": [
    "how_should_i_innoculate(0.1, \"17:00\", 1000, 4, \"8:00\", print_total_elapsed=True)"
   ]
  },
  {
   "cell_type": "code",
   "execution_count": 6,
   "metadata": {},
   "outputs": [
    {
     "name": "stdout",
     "output_type": "stream",
     "text": [
      "Yeast will be growing for 11.33 hours\n",
      "\n",
      "To make a 1000 mL culture at OD 0.1 at 10:00:\n",
      "\n",
      "Add 0.106 mL of starter at OD 5 to 999.894 mL of media\n"
     ]
    }
   ],
   "source": [
    "how_should_i_innoculate(0.1, \"10:00\", 1000, 5, \"22:40\", print_total_elapsed=True)"
   ]
  },
  {
   "cell_type": "code",
   "execution_count": 7,
   "metadata": {},
   "outputs": [
    {
     "data": {
      "text/plain": [
       "datetime.timedelta(seconds=7200)"
      ]
     },
     "execution_count": 7,
     "metadata": {},
     "output_type": "execute_result"
    }
   ],
   "source": [
    "test_time = datetime.strptime(\"17:00\", \"%H:%M\") - datetime.strptime(\"10:00\", \"%H:%M\")\n",
    "test_time.seconds / 3600\n",
    "\n",
    "timedelta(hours=2)"
   ]
  },
  {
   "cell_type": "code",
   "execution_count": 8,
   "metadata": {},
   "outputs": [
    {
     "name": "stdout",
     "output_type": "stream",
     "text": [
      "Yeast will be growing for 11.33 hours\n",
      "\n",
      "To make a 1000 mL culture at OD 0.1 at 10:00:\n",
      "\n",
      "Add 0.106 mL of starter at OD 5 to 999.894 mL of media\n"
     ]
    }
   ],
   "source": [
    "how_should_i_innoculate(0.1, \"10:00\", 1000, 5, \"22:40\", print_total_elapsed=True)"
   ]
  },
  {
   "cell_type": "code",
   "execution_count": null,
   "metadata": {},
   "outputs": [],
   "source": []
  },
  {
   "cell_type": "code",
   "execution_count": null,
   "metadata": {},
   "outputs": [],
   "source": []
  }
 ],
 "metadata": {
  "anaconda-cloud": {},
  "kernelspec": {
   "display_name": "Python 3",
   "language": "python",
   "name": "python3"
  },
  "language_info": {
   "codemirror_mode": {
    "name": "ipython",
    "version": 3
   },
   "file_extension": ".py",
   "mimetype": "text/x-python",
   "name": "python",
   "nbconvert_exporter": "python",
   "pygments_lexer": "ipython3",
   "version": "3.7.0"
  }
 },
 "nbformat": 4,
 "nbformat_minor": 1
}
